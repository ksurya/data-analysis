{
 "cells": [
  {
   "cell_type": "code",
   "execution_count": 1,
   "metadata": {
    "collapsed": true
   },
   "outputs": [],
   "source": [
    "from PIL import Image, ImageDraw, ImageFont\n",
    "from skimage import io\n",
    "\n",
    "import os\n",
    "import glob\n",
    "import matplotlib.pyplot as plt\n",
    "\n",
    "%matplotlib inline"
   ]
  },
  {
   "cell_type": "code",
   "execution_count": 2,
   "metadata": {
    "collapsed": true
   },
   "outputs": [],
   "source": [
    "def create_image(txt, fontFile, fontSize=28, dim=(30,30)):\n",
    "    W,H = dim\n",
    "    \n",
    "    # create empty image    \n",
    "    img = Image.new(\"RGB\", (W,H), color=\"black\")\n",
    "    draw = ImageDraw.Draw(img)\n",
    "\n",
    "    # setup font\n",
    "    font = ImageFont.truetype(fontFile, fontSize)\n",
    "\n",
    "    # draw a digit, aligned center\n",
    "    w, h = draw.textsize(txt, font=font)\n",
    "    draw.text(((W-w)/2, (H-h)/2), txt, font=font, fill=\"white\")\n",
    "\n",
    "    return img"
   ]
  },
  {
   "cell_type": "code",
   "execution_count": 3,
   "metadata": {},
   "outputs": [
    {
     "name": "stdout",
     "output_type": "stream",
     "text": [
      "google-fonts/ofl/kumarone/KumarOne-Regular.ttf error\n",
      "google-fonts/ofl/kumarone/KumarOne-Regular.ttf error\n",
      "google-fonts/ofl/kumarone/KumarOne-Regular.ttf error\n",
      "google-fonts/ofl/kumarone/KumarOne-Regular.ttf error\n",
      "google-fonts/ofl/kumarone/KumarOne-Regular.ttf error\n",
      "google-fonts/ofl/kumarone/KumarOne-Regular.ttf error\n",
      "google-fonts/ofl/kumarone/KumarOne-Regular.ttf error\n",
      "google-fonts/ofl/kumarone/KumarOne-Regular.ttf error\n",
      "google-fonts/ofl/kumarone/KumarOne-Regular.ttf error\n",
      "google-fonts/ofl/kumarone/KumarOne-Regular.ttf error\n"
     ]
    }
   ],
   "source": [
    "for fontpath in glob.iglob(\"google-fonts/ofl/*/*.ttf\"):\n",
    "    #print(fontpath)\n",
    "    \n",
    "    # prepare image path\n",
    "    imgpath = fontpath.replace(\"google-fonts\", \"google-font-images\")\n",
    "    imgpath = imgpath.split(\".ttf\")[0]\n",
    "    imgpath = os.path.join(os.getcwd(), imgpath)\n",
    "    \n",
    "    # create image path\n",
    "    if not os.path.exists(imgpath):\n",
    "        os.makedirs(os.path.join(os.getcwd(),imgpath))\n",
    "    \n",
    "    # generate images 0-9 printed chars\n",
    "    for num in range(10):\n",
    "        try:\n",
    "            img = create_image(str(num), fontpath, fontSize=25, dim=(28,28))\n",
    "            img.save(os.path.join(imgpath, str(num) + \".png\"))\n",
    "        except:\n",
    "            print(fontpath, \"error\")"
   ]
  },
  {
   "cell_type": "code",
   "execution_count": 4,
   "metadata": {},
   "outputs": [
    {
     "data": {
      "image/png": "[encoded data removed]",
      "text/plain": [
       "<matplotlib.figure.Figure at 0x7fcec0d602e8>"
      ]
     },
     "metadata": {},
     "output_type": "display_data"
    }
   ],
   "source": [
    "def show_images(path, cols=10):\n",
    "    images = [io.imread(i) for i in glob.iglob(path)]\n",
    "    fig = plt.figure()\n",
    "    for i,img in enumerate(images):\n",
    "        plt.subplot(int(len(images)/cols)+1, cols, i+1)\n",
    "        plt.axis(\"off\")\n",
    "        plt.imshow(img)\n",
    "        \n",
    "show_images(\"google-font-images/ofl/fasterone/*/*.png\")"
   ]
  }
 ],
 "metadata": {
  "kernelspec": {
   "display_name": "Python [conda env:py3]",
   "language": "python",
   "name": "conda-env-py3-py"
  },
  "language_info": {
   "codemirror_mode": {
    "name": "ipython",
    "version": 3
   },
   "file_extension": ".py",
   "mimetype": "text/x-python",
   "name": "python",
   "nbconvert_exporter": "python",
   "pygments_lexer": "ipython3",
   "version": "3.6.1"
  },
  "varInspector": {
   "cols": {
    "lenName": 16,
    "lenType": 16,
    "lenVar": 40
   },
   "kernels_config": {
    "python": {
     "delete_cmd_postfix": "",
     "delete_cmd_prefix": "del ",
     "library": "var_list.py",
     "varRefreshCmd": "print(var_dic_list())"
    },
    "r": {
     "delete_cmd_postfix": ") ",
     "delete_cmd_prefix": "rm(",
     "library": "var_list.r",
     "varRefreshCmd": "cat(var_dic_list()) "
    }
   },
   "types_to_exclude": [
    "module",
    "function",
    "builtin_function_or_method",
    "instance",
    "_Feature"
   ],
   "window_display": false
  }
 },
 "nbformat": 4,
 "nbformat_minor": 2
}
