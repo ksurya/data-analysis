{
 "cells": [
  {
   "cell_type": "markdown",
   "metadata": {},
   "source": [
    "# Can a neural net trained on handwritten digits determine printed digits?"
   ]
  },
  {
   "cell_type": "code",
   "execution_count": 47,
   "metadata": {},
   "outputs": [],
   "source": [
    "from keras.datasets import mnist\n",
    "from keras.callbacks import TensorBoard\n",
    "from keras.models import Sequential\n",
    "from keras.layers import Dense, Dropout, Flatten\n",
    "from keras.layers import Conv2D, MaxPooling2D\n",
    "from skimage import io, color\n",
    "from sklearn import metrics\n",
    "\n",
    "import seaborn as sns\n",
    "import numpy as np\n",
    "import keras\n",
    "import random\n",
    "import glob\n",
    "import os\n",
    "\n",
    "%matplotlib inline"
   ]
  },
  {
   "cell_type": "code",
   "execution_count": 2,
   "metadata": {
    "collapsed": true
   },
   "outputs": [],
   "source": [
    "# https://github.com/keras-team/keras/issues/4981\n",
    "inv_binary = np.argmax"
   ]
  },
  {
   "cell_type": "markdown",
   "metadata": {},
   "source": [
    "# Load Data"
   ]
  },
  {
   "cell_type": "code",
   "execution_count": 3,
   "metadata": {
    "collapsed": true
   },
   "outputs": [],
   "source": [
    "num_classes = 10"
   ]
  },
  {
   "cell_type": "code",
   "execution_count": 4,
   "metadata": {
    "collapsed": true
   },
   "outputs": [],
   "source": [
    "# load mnist data\n",
    "(mnist_x_train, mnist_y_train), (mnist_x_test, mnist_y_test) = mnist.load_data()\n",
    "\n",
    "# normalize to [0, 1]\n",
    "mnist_x_train = mnist_x_train.astype(\"float64\") / 255\n",
    "mnist_x_test = mnist_x_test.astype(\"float64\") / 255\n",
    "\n",
    "# retain test labels\n",
    "mnist_label_test = mnist_y_test.copy()\n",
    "\n",
    "# binarize labels\n",
    "mnist_y_train = keras.utils.to_categorical(mnist_y_train, num_classes)\n",
    "mnist_y_test = keras.utils.to_categorical(mnist_y_test, num_classes)"
   ]
  },
  {
   "cell_type": "code",
   "execution_count": 6,
   "metadata": {},
   "outputs": [],
   "source": [
    "# printed digits..\n",
    "printed_x = []\n",
    "printed_y = []\n",
    "printed_label = []\n",
    "\n",
    "for path in glob.iglob(\"google-font-images/ofl/*/*/*.png\"):\n",
    "    filename = os.path.split(path)[1]\n",
    "    label = int(filename.split(\".\")[0])\n",
    "    image = io.imread(path, as_grey=True)\n",
    "    printed_x.append(image)\n",
    "    printed_y.append(label)\n",
    "    printed_label.append(label)\n",
    "    \n",
    "printed_x = np.array(printed_x) # store as numpy array\n",
    "printed_y = keras.utils.to_categorical(np.array(printed_y), num_classes)  # binarize category"
   ]
  },
  {
   "cell_type": "code",
   "execution_count": 7,
   "metadata": {
    "collapsed": true
   },
   "outputs": [],
   "source": [
    "def reshape(arr):\n",
    "    sh = list(arr.shape)\n",
    "    if sh[-1] == 1:\n",
    "        return arr\n",
    "    sh.append(1)\n",
    "    return arr.reshape(*tuple(sh))\n",
    "\n",
    "mnist_x_train = reshape(mnist_x_train)\n",
    "mnist_x_test = reshape(mnist_x_test)\n",
    "printed_x = reshape(printed_x)"
   ]
  },
  {
   "cell_type": "code",
   "execution_count": 15,
   "metadata": {},
   "outputs": [
    {
     "name": "stdout",
     "output_type": "stream",
     "text": [
      "MNIST Train X    (60000, 28, 28, 1) float64 \n",
      "Printed X      (24280, 28, 28, 1) float64 \n",
      "MNIST Train Y  (60000, 10) float64 \n",
      "Printed Y      (24280, 10) float64\n"
     ]
    }
   ],
   "source": [
    "print(\n",
    "    \"MNIST Train X   \", mnist_x_train.shape, mnist_x_train.dtype,\n",
    "    \"\\nPrinted X     \", printed_x.shape, printed_x.dtype,\n",
    "    \"\\nMNIST Train Y \", mnist_y_train.shape, mnist_y_train.dtype,\n",
    "    \"\\nPrinted Y     \", printed_y.shape, printed_y.dtype\n",
    ")"
   ]
  },
  {
   "cell_type": "markdown",
   "metadata": {},
   "source": [
    "# MNIST -> Printed"
   ]
  },
  {
   "cell_type": "code",
   "execution_count": 16,
   "metadata": {
    "collapsed": true
   },
   "outputs": [],
   "source": [
    "input_shape = (28, 28, 1)\n",
    "batch_size = 128\n",
    "epochs = 20"
   ]
  },
  {
   "cell_type": "code",
   "execution_count": 17,
   "metadata": {},
   "outputs": [
    {
     "name": "stdout",
     "output_type": "stream",
     "text": [
      "Train on 60000 samples, validate on 10000 samples\n",
      "Epoch 1/20\n",
      "60000/60000 [==============================] - 14s - loss: 0.3322 - acc: 0.8977 - val_loss: 0.0760 - val_acc: 0.9760\n",
      "Epoch 2/20\n",
      "60000/60000 [==============================] - 11s - loss: 0.1146 - acc: 0.9674 - val_loss: 0.0523 - val_acc: 0.9833\n",
      "Epoch 3/20\n",
      "60000/60000 [==============================] - 11s - loss: 0.0884 - acc: 0.9735 - val_loss: 0.0446 - val_acc: 0.9851\n",
      "Epoch 4/20\n",
      "60000/60000 [==============================] - 11s - loss: 0.0732 - acc: 0.9778 - val_loss: 0.0384 - val_acc: 0.9869\n",
      "Epoch 5/20\n",
      "60000/60000 [==============================] - 11s - loss: 0.0646 - acc: 0.9803 - val_loss: 0.0384 - val_acc: 0.9874\n",
      "Epoch 6/20\n",
      "60000/60000 [==============================] - 11s - loss: 0.0551 - acc: 0.9828 - val_loss: 0.0349 - val_acc: 0.9882\n",
      "Epoch 7/20\n",
      "60000/60000 [==============================] - 11s - loss: 0.0503 - acc: 0.9848 - val_loss: 0.0340 - val_acc: 0.9891\n",
      "Epoch 8/20\n",
      "60000/60000 [==============================] - 11s - loss: 0.0462 - acc: 0.9857 - val_loss: 0.0322 - val_acc: 0.9895\n",
      "Epoch 9/20\n",
      "60000/60000 [==============================] - 11s - loss: 0.0441 - acc: 0.9869 - val_loss: 0.0315 - val_acc: 0.9900\n",
      "Epoch 10/20\n",
      "60000/60000 [==============================] - 11s - loss: 0.0426 - acc: 0.9876 - val_loss: 0.0301 - val_acc: 0.9906\n",
      "Epoch 11/20\n",
      "60000/60000 [==============================] - 11s - loss: 0.0390 - acc: 0.9885 - val_loss: 0.0292 - val_acc: 0.9911\n",
      "Epoch 12/20\n",
      "60000/60000 [==============================] - 11s - loss: 0.0360 - acc: 0.9893 - val_loss: 0.0294 - val_acc: 0.9906\n",
      "Epoch 13/20\n",
      "60000/60000 [==============================] - 11s - loss: 0.0354 - acc: 0.9891 - val_loss: 0.0282 - val_acc: 0.9905\n",
      "Epoch 14/20\n",
      "60000/60000 [==============================] - 11s - loss: 0.0327 - acc: 0.9904 - val_loss: 0.0297 - val_acc: 0.9912\n",
      "Epoch 15/20\n",
      "60000/60000 [==============================] - 11s - loss: 0.0314 - acc: 0.9903 - val_loss: 0.0291 - val_acc: 0.9902\n",
      "Epoch 16/20\n",
      "60000/60000 [==============================] - 11s - loss: 0.0303 - acc: 0.9910 - val_loss: 0.0296 - val_acc: 0.9902\n",
      "Epoch 17/20\n",
      "60000/60000 [==============================] - 11s - loss: 0.0297 - acc: 0.9906 - val_loss: 0.0301 - val_acc: 0.9909\n",
      "Epoch 18/20\n",
      "60000/60000 [==============================] - 11s - loss: 0.0300 - acc: 0.9910 - val_loss: 0.0291 - val_acc: 0.9903\n",
      "Epoch 19/20\n",
      "60000/60000 [==============================] - 11s - loss: 0.0290 - acc: 0.9914 - val_loss: 0.0288 - val_acc: 0.9901\n",
      "Epoch 20/20\n",
      "60000/60000 [==============================] - 11s - loss: 0.0286 - acc: 0.9915 - val_loss: 0.0312 - val_acc: 0.9912\n"
     ]
    },
    {
     "data": {
      "text/plain": [
       "<keras.callbacks.History at 0x7fd9329e3438>"
      ]
     },
     "execution_count": 17,
     "metadata": {},
     "output_type": "execute_result"
    }
   ],
   "source": [
    "mnist_model = Sequential()\n",
    "mnist_model.add(Conv2D(32, (3, 3), activation='relu', input_shape=input_shape))\n",
    "mnist_model.add(Conv2D(64, (3, 3), activation='relu'))\n",
    "mnist_model.add(MaxPooling2D(pool_size=(2, 2)))\n",
    "mnist_model.add(Dropout(0.25))\n",
    "mnist_model.add(Flatten())\n",
    "mnist_model.add(Dense(128, activation='relu'))\n",
    "mnist_model.add(Dropout(0.5))\n",
    "mnist_model.add(Dense(num_classes, activation='softmax'))\n",
    "\n",
    "mnist_model.compile(\n",
    "    loss=keras.losses.categorical_crossentropy,\n",
    "    optimizer=keras.optimizers.Adadelta(),\n",
    "    metrics=['accuracy'])\n",
    "\n",
    "mnist_model.fit(\n",
    "    mnist_x_train, mnist_y_train,\n",
    "    batch_size=batch_size,\n",
    "    epochs=epochs,\n",
    "    verbose=1,\n",
    "    validation_data=(mnist_x_test, mnist_y_test))"
   ]
  },
  {
   "cell_type": "markdown",
   "metadata": {},
   "source": [
    "# Measurements"
   ]
  },
  {
   "cell_type": "code",
   "execution_count": 18,
   "metadata": {},
   "outputs": [
    {
     "name": "stdout",
     "output_type": "stream",
     "text": [
      "Loss 0.0311995676307\n",
      "Accuracy 0.9912\n"
     ]
    }
   ],
   "source": [
    "# performance on mnist test data\n",
    "score = mnist_model.evaluate(mnist_x_test, mnist_y_test, verbose=0)\n",
    "print(\"Loss\", score[0])\n",
    "print(\"Accuracy\", score[1])"
   ]
  },
  {
   "cell_type": "code",
   "execution_count": 19,
   "metadata": {},
   "outputs": [
    {
     "name": "stdout",
     "output_type": "stream",
     "text": [
      "Loss 2.58059331593\n",
      "Accuracy 0.584925864919\n"
     ]
    }
   ],
   "source": [
    "# performance on printed data\n",
    "score = mnist_model.evaluate(printed_x, printed_y, verbose=0)\n",
    "print(\"Loss\", score[0])\n",
    "print(\"Accuracy\", score[1])"
   ]
  },
  {
   "cell_type": "code",
   "execution_count": 20,
   "metadata": {},
   "outputs": [
    {
     "name": "stdout",
     "output_type": "stream",
     "text": [
      "[2.5220927885768836, 0.60049423374100608]\n",
      "[2.5884461320408878, 0.58772652418256]\n",
      "[2.6277750728550617, 0.58031301512160449]\n",
      "[2.6772414903467925, 0.56466227367250299]\n",
      "[2.6540219500980031, 0.57537067604222059]\n",
      "[2.5265858318699643, 0.57866556915459166]\n",
      "[2.5165913057877165, 0.5757825373621317]\n",
      "[2.6072094483666208, 0.5823723228995058]\n",
      "[2.6803853256502106, 0.57372322919144858]\n",
      "[2.5281341574730156, 0.57948929238358671]\n"
     ]
    }
   ],
   "source": [
    "# performance on random samples of printed data\n",
    "size = printed_x.shape[0]\n",
    "for _ in range(10):\n",
    "    indexes = random.sample(range(size), k=int(.10 * size))\n",
    "    printed_x_test = printed_x[indexes, :, :, :]\n",
    "    printed_y_test = printed_y[indexes, :]\n",
    "    score = mnist_model.evaluate(printed_x_test, printed_y_test, verbose=0)\n",
    "    print(score)"
   ]
  },
  {
   "cell_type": "code",
   "execution_count": 21,
   "metadata": {},
   "outputs": [
    {
     "name": "stdout",
     "output_type": "stream",
     "text": [
      "Class  0 [2.9682820748654386, 0.59967051070840194]\n",
      "Class  1 [0.70328864165546479, 0.81219110418190865]\n",
      "Class  2 [4.6394065702963108, 0.27429983535354968]\n",
      "Class  3 [0.62834137781251598, 0.80848434984782191]\n",
      "Class  4 [7.6246151146425252, 0.1515650741350906]\n",
      "Class  5 [0.71417379106780055, 0.81136738134569553]\n",
      "Class  6 [2.4481866277226505, 0.38385502474852018]\n",
      "Class  7 [0.57448655133683368, 0.84925864948668628]\n",
      "Class  8 [1.8289191594625067, 0.69439868223922452]\n",
      "Class  9 [3.6762333438659618, 0.46416803944051954]\n"
     ]
    }
   ],
   "source": [
    "# performance per class label\n",
    "for c in range(num_classes):\n",
    "    indexes_c = [idx for idx, i in enumerate(printed_label) if i == c]\n",
    "    printed_x_test = printed_x[indexes_c, :, :, :]\n",
    "    printed_y_test = printed_y[indexes_c, :]\n",
    "    print(\"Class \", c, mnist_model.evaluate(printed_x_test, printed_y_test, verbose=0))"
   ]
  },
  {
   "cell_type": "code",
   "execution_count": 22,
   "metadata": {},
   "outputs": [
    {
     "name": "stdout",
     "output_type": "stream",
     "text": [
      "Class  0 [2.8526751839937843, 0.61202635953610973]\n",
      "Class  1 [0.69103922566039955, 0.80642504197172515]\n",
      "Class  2 [4.5045940864223626, 0.29077430022803719]\n",
      "Class  3 [0.58710206595834047, 0.81713344502881091]\n",
      "Class  4 [7.6620190650273781, 0.14744645816195737]\n",
      "Class  5 [0.68123259467780095, 0.82207578420639038]\n",
      "Class  6 [2.4708060534821312, 0.38632619533153895]\n",
      "Class  7 [0.54414154670187431, 0.86243822242714818]\n",
      "Class  8 [1.9186154448809301, 0.67957166509926814]\n",
      "Class  9 [3.6608835947768887, 0.45881383938490855]\n"
     ]
    }
   ],
   "source": [
    "# performance per class label on a random sample\n",
    "for c in range(num_classes):\n",
    "    indexes_c = [idx for idx, i in enumerate(printed_label) if i == c]\n",
    "    sample_indexes = random.sample(indexes_c, k=int(0.50 * len(indexes_c)))\n",
    "    printed_x_test = printed_x[sample_indexes, :, :, :]\n",
    "    printed_y_test = printed_y[sample_indexes, :]\n",
    "    print(\"Class \", c, mnist_model.evaluate(printed_x_test, printed_y_test, verbose=0))"
   ]
  },
  {
   "cell_type": "markdown",
   "metadata": {},
   "source": [
    "# Confusion Matrices"
   ]
  },
  {
   "cell_type": "code",
   "execution_count": 52,
   "metadata": {},
   "outputs": [],
   "source": [
    "def confusion_matrix(model, x_true, y_true):\n",
    "    prob = model.predict(x_true)\n",
    "    y_pred = np.argmax(prob, axis=1)  # class label of predicted\n",
    "    y_true = np.argmax(y_true, axis=1)  # class label of actual\n",
    "    matrix = metrics.confusion_matrix(y_true, y_pred)\n",
    "    sns.heatmap(matrix)"
   ]
  },
  {
   "cell_type": "code",
   "execution_count": 54,
   "metadata": {},
   "outputs": [
    {
     "data": {
      "image/png": "[encoded data removed]",
      "text/plain": [
       "<matplotlib.figure.Figure at 0x7fd8546bd7b8>"
      ]
     },
     "metadata": {},
     "output_type": "display_data"
    }
   ],
   "source": [
    "confusion_matrix(mnist_model, mnist_x_test, mnist_y_test)"
   ]
  },
  {
   "cell_type": "code",
   "execution_count": 53,
   "metadata": {},
   "outputs": [
    {
     "data": {
      "image/png": "[encoded data removed]",
      "text/plain": [
       "<matplotlib.figure.Figure at 0x7fd854855908>"
      ]
     },
     "metadata": {},
     "output_type": "display_data"
    }
   ],
   "source": [
    "confusion_matrix(mnist_model, printed_x, printed_y)"
   ]
  },
  {
   "cell_type": "markdown",
   "metadata": {},
   "source": [
    "# Printed -> MNIST"
   ]
  },
  {
   "cell_type": "code",
   "execution_count": 55,
   "metadata": {
    "collapsed": true
   },
   "outputs": [],
   "source": [
    "input_shape = (28, 28, 1)\n",
    "batch_size = 128\n",
    "epochs = 20"
   ]
  },
  {
   "cell_type": "code",
   "execution_count": 56,
   "metadata": {},
   "outputs": [
    {
     "name": "stdout",
     "output_type": "stream",
     "text": [
      "Train on 16996 samples, validate on 7284 samples\n",
      "Epoch 1/20\n",
      "16996/16996 [==============================] - 3s - loss: 0.9144 - acc: 0.7186 - val_loss: 0.3604 - val_acc: 0.9051\n",
      "Epoch 2/20\n",
      "16996/16996 [==============================] - 3s - loss: 0.3439 - acc: 0.9061 - val_loss: 0.2178 - val_acc: 0.9428\n",
      "Epoch 3/20\n",
      "16996/16996 [==============================] - 3s - loss: 0.2445 - acc: 0.9324 - val_loss: 0.1843 - val_acc: 0.9509\n",
      "Epoch 4/20\n",
      "16996/16996 [==============================] - 3s - loss: 0.2005 - acc: 0.9458 - val_loss: 0.1662 - val_acc: 0.9551\n",
      "Epoch 5/20\n",
      "16996/16996 [==============================] - 3s - loss: 0.1705 - acc: 0.9515 - val_loss: 0.1496 - val_acc: 0.9598\n",
      "Epoch 6/20\n",
      "16996/16996 [==============================] - 3s - loss: 0.1503 - acc: 0.9566 - val_loss: 0.1460 - val_acc: 0.9602\n",
      "Epoch 7/20\n",
      "16996/16996 [==============================] - 3s - loss: 0.1361 - acc: 0.9608 - val_loss: 0.1371 - val_acc: 0.9633\n",
      "Epoch 8/20\n",
      "16996/16996 [==============================] - 3s - loss: 0.1294 - acc: 0.9612 - val_loss: 0.1332 - val_acc: 0.9638\n",
      "Epoch 9/20\n",
      "16996/16996 [==============================] - 3s - loss: 0.1171 - acc: 0.9663 - val_loss: 0.1312 - val_acc: 0.9662\n",
      "Epoch 10/20\n",
      "16996/16996 [==============================] - 3s - loss: 0.1047 - acc: 0.9696 - val_loss: 0.1346 - val_acc: 0.9657\n",
      "Epoch 11/20\n",
      "16996/16996 [==============================] - 3s - loss: 0.1060 - acc: 0.9678 - val_loss: 0.1295 - val_acc: 0.9664\n",
      "Epoch 12/20\n",
      "16996/16996 [==============================] - 3s - loss: 0.0968 - acc: 0.9716 - val_loss: 0.1253 - val_acc: 0.9683\n",
      "Epoch 13/20\n",
      "16996/16996 [==============================] - 3s - loss: 0.0904 - acc: 0.9731 - val_loss: 0.1213 - val_acc: 0.9684\n",
      "Epoch 14/20\n",
      "16996/16996 [==============================] - 3s - loss: 0.0855 - acc: 0.9732 - val_loss: 0.1186 - val_acc: 0.9703\n",
      "Epoch 15/20\n",
      "16996/16996 [==============================] - 3s - loss: 0.0800 - acc: 0.9755 - val_loss: 0.1270 - val_acc: 0.9684\n",
      "Epoch 16/20\n",
      "16996/16996 [==============================] - 3s - loss: 0.0764 - acc: 0.9763 - val_loss: 0.1175 - val_acc: 0.9713\n",
      "Epoch 17/20\n",
      "16996/16996 [==============================] - 3s - loss: 0.0734 - acc: 0.9762 - val_loss: 0.1164 - val_acc: 0.9706\n",
      "Epoch 18/20\n",
      "16996/16996 [==============================] - 3s - loss: 0.0715 - acc: 0.9780 - val_loss: 0.1172 - val_acc: 0.9705\n",
      "Epoch 19/20\n",
      "16996/16996 [==============================] - 3s - loss: 0.0666 - acc: 0.9792 - val_loss: 0.1201 - val_acc: 0.9705\n",
      "Epoch 20/20\n",
      "16996/16996 [==============================] - 3s - loss: 0.0644 - acc: 0.9793 - val_loss: 0.1195 - val_acc: 0.9702\n"
     ]
    },
    {
     "data": {
      "text/plain": [
       "<keras.callbacks.History at 0x7fd8542e6b38>"
      ]
     },
     "execution_count": 56,
     "metadata": {},
     "output_type": "execute_result"
    }
   ],
   "source": [
    "printed_model = Sequential()\n",
    "printed_model.add(Conv2D(32, (3, 3), activation='relu', input_shape=input_shape))\n",
    "printed_model.add(Conv2D(64, (3, 3), activation='relu'))\n",
    "printed_model.add(MaxPooling2D(pool_size=(2, 2)))\n",
    "printed_model.add(Dropout(0.25))\n",
    "printed_model.add(Flatten())\n",
    "printed_model.add(Dense(128, activation='relu'))\n",
    "printed_model.add(Dropout(0.5))\n",
    "printed_model.add(Dense(num_classes, activation='softmax'))\n",
    "\n",
    "printed_model.compile(\n",
    "    loss=keras.losses.categorical_crossentropy,\n",
    "    optimizer=keras.optimizers.Adadelta(),\n",
    "    metrics=['accuracy'])\n",
    "\n",
    "printed_model.fit(\n",
    "    printed_x, printed_y,\n",
    "    batch_size=batch_size,\n",
    "    epochs=epochs,\n",
    "    verbose=1,\n",
    "    validation_split=0.3)"
   ]
  },
  {
   "cell_type": "code",
   "execution_count": 59,
   "metadata": {},
   "outputs": [
    {
     "data": {
      "text/plain": [
       "[1.5691589190006257, 0.70920000000000005]"
      ]
     },
     "execution_count": 59,
     "metadata": {},
     "output_type": "execute_result"
    }
   ],
   "source": [
    "# MNIST test data (loss, acc)\n",
    "printed_model.evaluate(mnist_x_test, mnist_y_test, verbose=0)"
   ]
  },
  {
   "cell_type": "code",
   "execution_count": 60,
   "metadata": {},
   "outputs": [
    {
     "name": "stdout",
     "output_type": "stream",
     "text": [
      "Class  0 [0.41329137983979009, 0.90714285738614142]\n",
      "Class  1 [0.17855054405292226, 0.94361233564200375]\n",
      "Class  2 [3.5810636198797892, 0.36434108527131781]\n",
      "Class  3 [0.61693644228548106, 0.83168316902500572]\n",
      "Class  4 [4.3206466836987589, 0.40733197592426462]\n",
      "Class  5 [0.533523861135068, 0.88004484318297005]\n",
      "Class  6 [1.3188778572639992, 0.69311064954590451]\n",
      "Class  7 [0.32653828421861725, 0.92023346303501941]\n",
      "Class  8 [2.9722144265928798, 0.4661190966316317]\n",
      "Class  9 [1.5384180451290104, 0.66105054562580956]\n"
     ]
    }
   ],
   "source": [
    "# MNIST per class label\n",
    "for c in range(num_classes):\n",
    "    indexes_c = [idx for idx, i in enumerate(mnist_label_test) if i == c]\n",
    "    x_test = mnist_x_test[indexes_c, :, :, :]\n",
    "    y_test = mnist_y_test[indexes_c, :]\n",
    "    print(\"Class \", c, printed_model.evaluate(x_test, y_test, verbose=0))"
   ]
  },
  {
   "cell_type": "code",
   "execution_count": 62,
   "metadata": {},
   "outputs": [
    {
     "data": {
      "image/png": "[encoded data removed]",
      "text/plain": [
       "<matplotlib.figure.Figure at 0x7fd8548335c0>"
      ]
     },
     "metadata": {},
     "output_type": "display_data"
    }
   ],
   "source": [
    "confusion_matrix(printed_model, printed_x, printed_y)"
   ]
  },
  {
   "cell_type": "code",
   "execution_count": 61,
   "metadata": {},
   "outputs": [
    {
     "data": {
      "image/png": "[encoded data removed]",
      "text/plain": [
       "<matplotlib.figure.Figure at 0x7fd8545290f0>"
      ]
     },
     "metadata": {},
     "output_type": "display_data"
    }
   ],
   "source": [
    "confusion_matrix(printed_model, mnist_x_test, mnist_y_test)"
   ]
  }
 ],
 "metadata": {
  "kernelspec": {
   "display_name": "Python [conda env:py3]",
   "language": "python",
   "name": "conda-env-py3-py"
  },
  "language_info": {
   "codemirror_mode": {
    "name": "ipython",
    "version": 3
   },
   "file_extension": ".py",
   "mimetype": "text/x-python",
   "name": "python",
   "nbconvert_exporter": "python",
   "pygments_lexer": "ipython3",
   "version": "3.6.1"
  },
  "varInspector": {
   "cols": {
    "lenName": 16,
    "lenType": 16,
    "lenVar": 40
   },
   "kernels_config": {
    "python": {
     "delete_cmd_postfix": "",
     "delete_cmd_prefix": "del ",
     "library": "var_list.py",
     "varRefreshCmd": "print(var_dic_list())"
    },
    "r": {
     "delete_cmd_postfix": ") ",
     "delete_cmd_prefix": "rm(",
     "library": "var_list.r",
     "varRefreshCmd": "cat(var_dic_list()) "
    }
   },
   "types_to_exclude": [
    "module",
    "function",
    "builtin_function_or_method",
    "instance",
    "_Feature"
   ],
   "window_display": false
  }
 },
 "nbformat": 4,
 "nbformat_minor": 2
}
